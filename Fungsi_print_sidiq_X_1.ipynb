{
  "cells": [
    {
      "cell_type": "markdown",
      "metadata": {
        "id": "view-in-github",
        "colab_type": "text"
      },
      "source": [
        "<a href=\"https://colab.research.google.com/github/khazimsidiq/KKA-X-Semester-1-Sidiq/blob/main/Fungsi_print_sidiq_X_1.ipynb\" target=\"_parent\"><img src=\"https://colab.research.google.com/assets/colab-badge.svg\" alt=\"Open In Colab\"/></a>"
      ]
    },
    {
      "cell_type": "markdown",
      "metadata": {
        "id": "7ancsGPX1kmg"
      },
      "source": [
        "Nama : Muhammad khazim sidiq\n",
        "\n",
        "Kelas : X-1\n",
        "\n",
        "Absen : 18"
      ]
    },
    {
      "cell_type": "markdown",
      "metadata": {
        "id": "TrfUM3yw30T3"
      },
      "source": [
        "#Menampilkan teks bebas"
      ]
    },
    {
      "cell_type": "code",
      "execution_count": null,
      "metadata": {
        "colab": {
          "base_uri": "https://localhost:8080/"
        },
        "id": "nkQOjgxg5erI",
        "outputId": "3b731dc7-2e99-45b7-cab9-a8c6586efa0e"
      },
      "outputs": [
        {
          "name": "stdout",
          "output_type": "stream",
          "text": [
            "Muhammad khazim sidiq\n"
          ]
        }
      ],
      "source": [
        "print(\"Muhammad khazim sidiq\")"
      ]
    },
    {
      "cell_type": "markdown",
      "metadata": {
        "id": "vIS7Ooja5fLx"
      },
      "source": [
        "#Menampilkan teks variabel"
      ]
    },
    {
      "cell_type": "code",
      "execution_count": null,
      "metadata": {
        "colab": {
          "base_uri": "https://localhost:8080/"
        },
        "id": "V630C1De7K1z",
        "outputId": "c3c9f2e4-61d0-45c4-dc69-47ead5776188"
      },
      "outputs": [
        {
          "output_type": "stream",
          "name": "stdout",
          "text": [
            "Hanan Attaki\n"
          ]
        }
      ],
      "source": [
        "nama_idola = \"Hanan Attaki\"\n",
        "\n",
        "print(nama_idola)"
      ]
    },
    {
      "cell_type": "code",
      "execution_count": null,
      "metadata": {
        "colab": {
          "base_uri": "https://localhost:8080/"
        },
        "id": "zZfohe737ZUP",
        "outputId": "72244744-81ca-4cd5-cd21-864725eeaba6"
      },
      "outputs": [
        {
          "output_type": "stream",
          "name": "stdout",
          "text": [
            "15\n"
          ]
        }
      ],
      "source": [
        "usia_idola = 15\n",
        "\n",
        "print(usia_idola)"
      ]
    },
    {
      "cell_type": "code",
      "execution_count": null,
      "metadata": {
        "colab": {
          "base_uri": "https://localhost:8080/"
        },
        "id": "BQvT5iFu5l-e",
        "outputId": "acae2c67-5bcd-4cca-c072-b3e0b90de8cd"
      },
      "outputs": [
        {
          "name": "stdout",
          "output_type": "stream",
          "text": [
            "Faza\n"
          ]
        }
      ],
      "source": [
        "nama_saudara = \"Faza\"\n",
        "\n",
        "print(nama_saudara)"
      ]
    },
    {
      "cell_type": "code",
      "execution_count": null,
      "metadata": {
        "colab": {
          "base_uri": "https://localhost:8080/"
        },
        "id": "vGLeZiQ96C64",
        "outputId": "b09bba63-e9d2-4caa-81ce-98bf3ca4cea0"
      },
      "outputs": [
        {
          "name": "stdout",
          "output_type": "stream",
          "text": [
            "4\n"
          ]
        }
      ],
      "source": [
        "jumlah_saudara = 4\n",
        "\n",
        "print(jumlah_saudara)"
      ]
    },
    {
      "cell_type": "markdown",
      "metadata": {
        "id": "6NILvZhp8Jq0"
      },
      "source": [
        "#Latihan Soal"
      ]
    },
    {
      "cell_type": "code",
      "execution_count": null,
      "metadata": {
        "id": "8_B4K39L8qPx"
      },
      "outputs": [],
      "source": [
        "1.Buat variabel nama saudara & tampilkan\n",
        "2.Buat variabel jumlah saudara & tampilkan"
      ]
    },
    {
      "cell_type": "markdown",
      "metadata": {
        "id": "nosplvdp2sLN"
      },
      "source": [
        "#Menampil nilai dan string"
      ]
    },
    {
      "cell_type": "code",
      "execution_count": null,
      "metadata": {
        "colab": {
          "base_uri": "https://localhost:8080/"
        },
        "id": "9c7Bt1N33ENS",
        "outputId": "99aafcc5-7fb2-429f-a377-857bbec7cf28"
      },
      "outputs": [
        {
          "output_type": "stream",
          "name": "stdout",
          "text": [
            "Nama idola saya adalah Hanan Attaki. Usianya adalah 15 tahun. \n"
          ]
        }
      ],
      "source": [
        "print (f\"Nama idola saya adalah {nama_idola}. Usianya adalah {usia_idola} tahun. \")"
      ]
    },
    {
      "cell_type": "markdown",
      "source": [
        "#Escape"
      ],
      "metadata": {
        "id": "Z8KxiqUKiJxp"
      }
    },
    {
      "cell_type": "code",
      "source": [
        "print('silahkan simpan tugas di folder local disk D:\\Man Demak\\MAN\\Tugas')"
      ],
      "metadata": {
        "colab": {
          "base_uri": "https://localhost:8080/"
        },
        "id": "sfLS7b-5jQYc",
        "outputId": "992eca9a-960f-4dd3-b8ee-e7edda65f63f"
      },
      "execution_count": null,
      "outputs": [
        {
          "output_type": "stream",
          "name": "stdout",
          "text": [
            "silahkan simpan tugas di folder local disk D:\\Man Demak\\MAN\\Tugas\n"
          ]
        },
        {
          "output_type": "stream",
          "name": "stderr",
          "text": [
            "<>:1: SyntaxWarning: invalid escape sequence '\\M'\n",
            "<>:1: SyntaxWarning: invalid escape sequence '\\M'\n",
            "/tmp/ipython-input-416163588.py:1: SyntaxWarning: invalid escape sequence '\\M'\n",
            "  print('silahkan simpan tugas di folder local disk D:\\Man Demak\\MAN\\Tugas')\n"
          ]
        }
      ]
    },
    {
      "cell_type": "markdown",
      "source": [
        "#Latihan soal"
      ],
      "metadata": {
        "id": "eDxLBcHjkeiR"
      }
    },
    {
      "cell_type": "markdown",
      "source": [
        "Kerjakan"
      ],
      "metadata": {
        "id": "xhezcUyqlBYK"
      }
    },
    {
      "cell_type": "code",
      "source": [
        "print(\"senin\\selasa\\rabu\\jielo\n",
        "prin"
      ],
      "metadata": {
        "id": "eSwk554kkd7M"
      },
      "execution_count": null,
      "outputs": []
    },
    {
      "cell_type": "markdown",
      "source": [
        "#Parameter fungsi print"
      ],
      "metadata": {
        "id": "OmEK9enUpEpo"
      }
    },
    {
      "cell_type": "code",
      "source": [
        "nama_siswa_1= \"Dias\"\n",
        "nama_siswa_2= \"dina\"\n",
        "\n",
        "print( nama_siswa_1 )"
      ],
      "metadata": {
        "colab": {
          "base_uri": "https://localhost:8080/"
        },
        "id": "w7PCOASDpQ2v",
        "outputId": "fc0b6f10-c1a1-4177-9a73-1b23b5dfe30b"
      },
      "execution_count": null,
      "outputs": [
        {
          "output_type": "stream",
          "name": "stdout",
          "text": [
            "Dias\n"
          ]
        }
      ]
    },
    {
      "cell_type": "markdown",
      "source": [
        "#Latihan soal"
      ],
      "metadata": {
        "id": "dz_VxHiRqNd8"
      }
    }
  ],
  "metadata": {
    "colab": {
      "provenance": [],
      "authorship_tag": "ABX9TyOwmmHi8veNZtloLM6fr/z9",
      "include_colab_link": true
    },
    "kernelspec": {
      "display_name": "Python 3",
      "name": "python3"
    },
    "language_info": {
      "name": "python"
    }
  },
  "nbformat": 4,
  "nbformat_minor": 0
}
